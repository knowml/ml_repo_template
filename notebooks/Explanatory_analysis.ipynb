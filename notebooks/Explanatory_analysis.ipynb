{
 "cells": [
  {
   "cell_type": "code",
   "execution_count": null,
   "id": "f18a6bd2",
   "metadata": {},
   "outputs": [],
   "source": [
    "import pandas as pd\n",
    "import numpy as np\n",
    "import matplotlib.pyplot as plt\n",
    "import seaborn as sns\n",
    "from datetime import datetime"
   ]
  },
  {
   "cell_type": "code",
   "execution_count": null,
   "id": "77c5e5cc",
   "metadata": {},
   "outputs": [],
   "source": [
    "%matplotlib inline\n",
    "pd.options.display.float_format = '{:.5f}'.format"
   ]
  },
  {
   "cell_type": "markdown",
   "id": "86801b42",
   "metadata": {
    "tags": []
   },
   "source": [
    "## Load file"
   ]
  },
  {
   "cell_type": "code",
   "execution_count": null,
   "id": "725be58e",
   "metadata": {},
   "outputs": [],
   "source": [
    "file = \"../data/0_raw/data.csv\" \n",
    "df_raw = pd.read_csv(file\n",
    "                   , sep=','\n",
    "                   , header=0\n",
    "                   , parse_dates=['data_col']\n",
    "                   , infer_datetime_format=True\n",
    "                   , low_memory=False)\n",
    "df_raw.head()"
   ]
  },
  {
   "cell_type": "code",
   "execution_count": null,
   "id": "84eb820a",
   "metadata": {},
   "outputs": [],
   "source": [
    "df_raw.info(show_counts=True)"
   ]
  },
  {
   "cell_type": "markdown",
   "id": "46791778",
   "metadata": {
    "tags": []
   },
   "source": [
    "## Analysis of dataset"
   ]
  },
  {
   "cell_type": "code",
   "execution_count": null,
   "id": "543c290a",
   "metadata": {},
   "outputs": [],
   "source": [
    "# df would be a copy of raw data that would be processed\n",
    "df = df_raw.copy()"
   ]
  },
  {
   "cell_type": "markdown",
   "id": "2bbf8b95",
   "metadata": {
    "tags": []
   },
   "source": [
    "### General look"
   ]
  },
  {
   "cell_type": "code",
   "execution_count": null,
   "id": "093d69c1",
   "metadata": {},
   "outputs": [],
   "source": [
    "df.describe(include='all', datetime_is_numeric=True)"
   ]
  },
  {
   "cell_type": "markdown",
   "id": "d1059243",
   "metadata": {
    "tags": []
   },
   "source": [
    "### Target\n",
    "Code target and subset to relevant rows"
   ]
  },
  {
   "cell_type": "code",
   "execution_count": null,
   "id": "fb5d66d6",
   "metadata": {},
   "outputs": [],
   "source": [
    "df['target_old_name'].value_counts()"
   ]
  },
  {
   "cell_type": "code",
   "execution_count": null,
   "id": "644433b0",
   "metadata": {},
   "outputs": [],
   "source": [
    "# create column target where 1 is default, 0 is not, -1 is out of analysis\n",
    "target_map = {\"cat 0\": 0, \"cat 1\":1, \"cat irrelevant\": -1}"
   ]
  },
  {
   "cell_type": "code",
   "execution_count": null,
   "id": "f588a2ed",
   "metadata": {},
   "outputs": [],
   "source": [
    "df['target'] = df['target_old_name'].map(target_map)\n",
    "df.drop(columns=['target_old_name'], inplace=True)"
   ]
  },
  {
   "cell_type": "code",
   "execution_count": null,
   "id": "534b3465",
   "metadata": {},
   "outputs": [],
   "source": [
    "df['target'].value_counts()"
   ]
  },
  {
   "cell_type": "code",
   "execution_count": null,
   "id": "c96b0b81",
   "metadata": {},
   "outputs": [],
   "source": [
    "df = df.query('target >= 0').reset_index(drop=True)"
   ]
  },
  {
   "cell_type": "code",
   "execution_count": null,
   "id": "1089823c",
   "metadata": {},
   "outputs": [],
   "source": [
    "sns.countplot(x=df['target'], palette='viridis')"
   ]
  },
  {
   "cell_type": "markdown",
   "id": "f316be90",
   "metadata": {
    "tags": []
   },
   "source": [
    "### Not relevant features\n",
    "There are some feautres which are not relevant"
   ]
  },
  {
   "cell_type": "code",
   "execution_count": null,
   "id": "badb10fd",
   "metadata": {},
   "outputs": [],
   "source": [
    "cols_to_drop=['co1', 'col2']\n",
    "df.drop(columns=cols_to_drop, inplace=True)"
   ]
  },
  {
   "cell_type": "markdown",
   "id": "53d1bac7",
   "metadata": {
    "tags": []
   },
   "source": [
    "### Duplication in data\n",
    "There is no ID column so using all columns to check duplicates"
   ]
  },
  {
   "cell_type": "code",
   "execution_count": null,
   "id": "27f4add6",
   "metadata": {},
   "outputs": [],
   "source": [
    "# check if there are some rows that have the same values for all columns except target\n",
    "df[df.drop(columns=['target']).duplicated(keep=False)]"
   ]
  },
  {
   "cell_type": "markdown",
   "id": "bf928743",
   "metadata": {},
   "source": [
    "Conclusions:\n",
    "1. \n",
    "2. \n",
    "3. \n"
   ]
  },
  {
   "cell_type": "markdown",
   "id": "7f065752",
   "metadata": {
    "tags": []
   },
   "source": [
    "### Missing values"
   ]
  },
  {
   "cell_type": "code",
   "execution_count": null,
   "id": "ad350802",
   "metadata": {},
   "outputs": [],
   "source": [
    "df.isna().sum()"
   ]
  },
  {
   "cell_type": "code",
   "execution_count": null,
   "id": "6f58e648",
   "metadata": {},
   "outputs": [],
   "source": [
    "df.isna().sum() / len(df)"
   ]
  },
  {
   "cell_type": "markdown",
   "id": "76d86a68",
   "metadata": {
    "tags": []
   },
   "source": [
    "#### missing col3"
   ]
  },
  {
   "cell_type": "code",
   "execution_count": null,
   "id": "baa3bb44",
   "metadata": {},
   "outputs": [],
   "source": [
    "# col 3 check\n",
    "df[pd.isna(df['col3'])]"
   ]
  },
  {
   "cell_type": "markdown",
   "id": "4554631d",
   "metadata": {},
   "source": [
    "#### missings values solution\n",
    "- missings for col3 - delete rows "
   ]
  },
  {
   "cell_type": "code",
   "execution_count": null,
   "id": "13b01a2d",
   "metadata": {},
   "outputs": [],
   "source": [
    "df.dropna(axis=0, subset=['col3'], inplace=True)"
   ]
  },
  {
   "cell_type": "code",
   "execution_count": null,
   "id": "2a8aed58",
   "metadata": {},
   "outputs": [],
   "source": [
    "df.isna().sum()"
   ]
  },
  {
   "cell_type": "markdown",
   "id": "221f9827",
   "metadata": {
    "tags": []
   },
   "source": [
    "## Distribution of data"
   ]
  },
  {
   "cell_type": "code",
   "execution_count": null,
   "id": "22562a2d-5fee-4264-80d0-f9bcc3777585",
   "metadata": {},
   "outputs": [],
   "source": [
    "col_float = list(df.select_dtypes(include=['float64']).columns)\n",
    "col_obj = list(df.select_dtypes(include=['object']).columns)"
   ]
  },
  {
   "cell_type": "code",
   "execution_count": null,
   "id": "2beb711e-91fe-422d-9cce-0691dc1a34e0",
   "metadata": {},
   "outputs": [],
   "source": [
    "for col in col_float:\n",
    "    print(f'Distribution: {col}')\n",
    "    sns.boxplot(y=df[col], x=df['target'])\n",
    "    plt.show()"
   ]
  },
  {
   "cell_type": "code",
   "execution_count": null,
   "id": "0a6c0585-a246-4d72-9cd5-0ca4c5f2e355",
   "metadata": {},
   "outputs": [],
   "source": [
    "for col in col_obj:\n",
    "    print(f'Distribution: {col}')\n",
    "    plt.figure(figsize=(16,4))\n",
    "    sns.countplot(x=df[col],hue=df['target'], order=sorted(df[col].unique()))\n",
    "    plt.show()"
   ]
  },
  {
   "cell_type": "code",
   "execution_count": null,
   "id": "b6c78bb2-33a2-40b8-9bfc-221270d198a0",
   "metadata": {},
   "outputs": [],
   "source": [
    "print(f'Distribution: date_col')\n",
    "plt.figure(figsize=(20,4))\n",
    "ax = sns.countplot(x=df['date_col'].dt.year,hue=df['target'], order=sorted(df['date_col'].dt.year.unique()))\n",
    "ax.set_xticklabels(ax.get_xticklabels(), rotation=40, ha=\"right\")\n",
    "plt.show()"
   ]
  },
  {
   "cell_type": "markdown",
   "id": "a48e3c4e-046a-40e0-8fa4-152afbfda857",
   "metadata": {},
   "source": [
    "Conclusions:\n",
    "- there are outliers to detect\n",
    "- other conclusions"
   ]
  },
  {
   "cell_type": "markdown",
   "id": "e8569312-b230-49b6-a9ed-c4aa06eba672",
   "metadata": {
    "tags": []
   },
   "source": [
    "## Encode"
   ]
  },
  {
   "cell_type": "code",
   "execution_count": null,
   "id": "03bf93aa-3fe9-4160-9e23-159252883026",
   "metadata": {},
   "outputs": [],
   "source": [
    "col_map = {'val1': 0, ' val2': 1, 'vl3': 1}\n",
    "df['col_new'] = df['col_old'].map(col_map)"
   ]
  },
  {
   "cell_type": "code",
   "execution_count": null,
   "id": "8d0af225-0c89-4192-9890-0473d2051332",
   "metadata": {
    "tags": []
   },
   "outputs": [],
   "source": [
    "df = pd.get_dummies(df, columns=['col5'], drop_first=True)"
   ]
  },
  {
   "cell_type": "markdown",
   "id": "8f11c330-185f-4abd-861c-849a2de21dfb",
   "metadata": {
    "tags": []
   },
   "source": [
    "## Correlation"
   ]
  },
  {
   "cell_type": "markdown",
   "id": "888a1293-8954-475c-a9d5-5d4fb8d1a1b4",
   "metadata": {
    "tags": []
   },
   "source": [
    "#### Between numerical"
   ]
  },
  {
   "cell_type": "code",
   "execution_count": null,
   "id": "acc22804-b304-4ebb-b644-ebd5c01dd3d9",
   "metadata": {},
   "outputs": [],
   "source": [
    "plt.figure(figsize=(15,8))\n",
    "sns.heatmap(df.corr(),annot=True)\n",
    "plt.show()"
   ]
  },
  {
   "cell_type": "code",
   "execution_count": null,
   "id": "03dc4852-b3b3-4b6a-ab7d-11748a0cc663",
   "metadata": {
    "tags": []
   },
   "outputs": [],
   "source": [
    "# check correlated pairs\n",
    "plt.figure(figsize=(15, 5))\n",
    "sns.histplot(x=df['one'], hue=df['two'], bins=20)"
   ]
  },
  {
   "cell_type": "markdown",
   "id": "74a21373-a392-476c-921e-38ce38c00ae6",
   "metadata": {},
   "source": [
    "Conclusion:\n",
    "- remove two as is correlated with one"
   ]
  },
  {
   "cell_type": "code",
   "execution_count": null,
   "id": "8c8274e5-ffe7-49d6-acb6-5bbc4412567b",
   "metadata": {},
   "outputs": [],
   "source": [
    "df.drop(columns=['two'], inplace=True)"
   ]
  },
  {
   "cell_type": "markdown",
   "id": "b7909139-8a16-4755-8106-81ca92087d34",
   "metadata": {
    "tags": []
   },
   "source": [
    "## Outliers"
   ]
  },
  {
   "cell_type": "markdown",
   "id": "babbd5c7-4141-4eb9-af8c-bd250601f88a",
   "metadata": {
    "tags": []
   },
   "source": [
    "### log transformation"
   ]
  },
  {
   "cell_type": "code",
   "execution_count": null,
   "id": "76819e62-1b7e-4bb8-9915-44a86c8ad873",
   "metadata": {},
   "outputs": [],
   "source": [
    "# check if log transformation helps with outliers\n",
    "for col in col_float:\n",
    "    print(f'Distribution: log of {col}')\n",
    "    sns.boxplot(y=np.log(df[col]+0.0001), x=df['target'])\n",
    "    plt.show()"
   ]
  },
  {
   "cell_type": "code",
   "execution_count": null,
   "id": "cab85cf8-0d8b-4e98-b1fc-8d0360298eb4",
   "metadata": {},
   "outputs": [],
   "source": [
    "# transform to log\n",
    "for col in col_float:\n",
    "    df[col] = df[col].apply(lambda x: np.log(x+0.00001))"
   ]
  },
  {
   "cell_type": "code",
   "execution_count": null,
   "id": "ea3ee555-f370-465b-b6bf-c65c942fb0ae",
   "metadata": {},
   "outputs": [],
   "source": [
    "df.describe(include='all')"
   ]
  },
  {
   "cell_type": "markdown",
   "id": "300dc62a-bd1b-4327-9afb-3abf944a520e",
   "metadata": {},
   "source": [
    "## Sum up analysis"
   ]
  },
  {
   "cell_type": "markdown",
   "id": "cd6d6dc5-2b16-4dc8-8bf7-0e6529f5e5aa",
   "metadata": {},
   "source": [
    "1. target variable to code as binary and drop not relevant values\n",
    "2. no duplicates to drop\n",
    "3. drop features:\n",
    "    - not relevant: cols_to_drop=['col2', 'col'] \n",
    "    - correlated: one_a, one_b\n",
    "4. missings:\n",
    "    - missings for col - delete row\n",
    "5. encode cat values\n",
    "        - col_map = {'val1': 0, ' val2': 1, 'vl3': 1}\n",
    "        - col5 - dummies\n",
    "6. transformations:\n",
    "    - date_col - only year \n",
    "    - log numerical variables \n",
    "    - remove outliers"
   ]
  },
  {
   "cell_type": "code",
   "execution_count": null,
   "id": "0ada5903-9f28-4104-b5c4-e96074c2a540",
   "metadata": {},
   "outputs": [],
   "source": []
  }
 ],
 "metadata": {
  "kernelspec": {
   "display_name": "nethone",
   "language": "python",
   "name": "nethone"
  },
  "language_info": {
   "codemirror_mode": {
    "name": "ipython",
    "version": 3
   },
   "file_extension": ".py",
   "mimetype": "text/x-python",
   "name": "python",
   "nbconvert_exporter": "python",
   "pygments_lexer": "ipython3",
   "version": "3.9.7"
  }
 },
 "nbformat": 4,
 "nbformat_minor": 5
}
